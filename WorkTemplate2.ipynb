{
 "cells": [
  {
   "cell_type": "markdown",
   "id": "375aacc5",
   "metadata": {},
   "source": [
    "<br>\n",
    "\n",
    "# Técnicas Matemáticas para Big Data - Project 02 - Hidden Markov Models\n",
    "<br><br>\n"
   ]
  },
  {
   "cell_type": "markdown",
   "id": "8b47c68c",
   "metadata": {},
   "source": [
    "GROUP 05:\n",
    "- João Vieitas - Nº 97632 - 33% Work Participation\n",
    "- Margarida Oliveira - Nº 103112 - 33% Work Participation\n",
    "- Maria Costa - Nº 124254 - 33% Work Participation"
   ]
  },
  {
   "cell_type": "markdown",
   "id": "c66fb045",
   "metadata": {},
   "source": [
    "<br><br>\n",
    "\n",
    "## 1. Introduction to the problem of study [1,0 valor]"
   ]
  },
  {
   "cell_type": "markdown",
   "id": "97ff2ae4",
   "metadata": {},
   "source": [
    "a"
   ]
  },
  {
   "cell_type": "markdown",
   "id": "41af2342",
   "metadata": {},
   "source": [
    "<br><br>\n",
    "## 2. Brief and general description of the approach and methods used [1,5 valor]"
   ]
  },
  {
   "cell_type": "markdown",
   "id": "6eaed846",
   "metadata": {},
   "source": [
    "O Modelo Oculto de Markov é uma ferramenta probabilística amplamente utilizada para modelação de processos estocásticos onde o sistema subjacente opera em estados ocultos que não podem ser observados diretamente. No contexto deste estudo, os HMMs são aplicados para identificar padrões ocultos nos atrasos de transporte, condicionados por variáveis como clima e outros fatores ambientais.\n",
    "\n",
    "Os HMMs são particularmente úteis para problemas temporais, como análise de atrasos, pois capturam dependências temporais e a incerteza associada a medições ou estados não diretamente observáveis."
   ]
  },
  {
   "cell_type": "markdown",
   "id": "0e324615",
   "metadata": {},
   "source": [
    "<br><br>\n",
    "## 3. Brief History and literature review of the problem and methods/algorithms [1,5 valor]"
   ]
  },
  {
   "cell_type": "markdown",
   "id": "8cdc8ced",
   "metadata": {},
   "source": [
    "Os atrasos nos sistemas de transporte, sejam eles aéreos, ferroviários ou rodoviários, representam um problema crítico na gestão logística e na mobilidade moderna. As condições meteorológicas são um dos fatores externos mais significativos para a ocorrência de atrasos, uma vez que fenómenos como chuva intensa, tempestades e nevoeiro afetam diretamente as operações. A análise e previsão de atrasos devido a fatores climáticos têm ganho relevância nos últimos anos, motivadas por implicações económicas, impactos das alterações climáticas e avanços tecnológicos em métodos de análise de dados.\n",
    "\n",
    "Os Modelos de Markov Ocultos (HMM) destacam-se na análise de dados sequenciais, como séries temporais de condições climáticas e atrasos. Estes modelos permitem identificar estados ocultos (como \"impacto leve\", \"impacto moderado\" ou \"impacto severo\") com base em observações visíveis, como o tipo de clima e o atraso registado. A versão MultinomialHMM, em particular, é ideal para variáveis discretas, como categorias de clima e atrasos.\n"
   ]
  },
  {
   "cell_type": "markdown",
   "id": "4889a980",
   "metadata": {},
   "source": [
    "<br><br>\n",
    "## 4. About the main method/algorithm used [1,5 valor]"
   ]
  },
  {
   "cell_type": "markdown",
   "id": "3d79acd1",
   "metadata": {},
   "source": [
    "Neste estudo, o HMM foi treinado para prever o impacto climático nos atrasos de transporte. A combinação de variáveis discretas, como clima e categorias de atraso, permite ao modelo identificar padrões relevantes para a gestão de recursos e planeamento operacional.\n",
    "\n",
    "Funcionamento do Modelo:\n",
    "\n",
    "- Estados Ocultos: Representam condições subjacentes que não são diretamente observáveis (como \"Sem Impacto\", \"Moderado\" e \"Severo\").\n",
    "- Variáveis Observáveis: Dados diretamente observáveis, como categorias de clima (Sol, Nublado, etc.) e níveis de atraso.\n",
    "- Transições de Estado: Probabilidades de um estado oculto mudar para outro numa sequência temporal.\n",
    "- Distribuição de Emissão: A probabilidade de observações (atraso, clima) dado um estado oculto específico."
   ]
  },
  {
   "cell_type": "markdown",
   "id": "52795c65",
   "metadata": {},
   "source": [
    "<br><br>\n",
    "\n",
    "## 5. Python imports and global configurations [0,5 valor]"
   ]
  },
  {
   "cell_type": "markdown",
   "id": "6f0f3deb",
   "metadata": {},
   "source": [
    "### Install and import the necessary libraries"
   ]
  },
  {
   "cell_type": "code",
   "execution_count": null,
   "id": "b5177dbe",
   "metadata": {},
   "outputs": [
    {
     "name": "stdout",
     "output_type": "stream",
     "text": [
      "sys.version_info(major=3, minor=12, micro=2, releaselevel='final', serial=0)\n"
     ]
    }
   ],
   "source": [
    "#"
   ]
  },
  {
   "cell_type": "markdown",
   "id": "bb739aae",
   "metadata": {},
   "source": [
    "<br><br>\n",
    "\n",
    "## 6. Dataset and variables explanation [1,5 valor]"
   ]
  },
  {
   "cell_type": "markdown",
   "id": "2f22429e",
   "metadata": {},
   "source": [
    "a"
   ]
  },
  {
   "cell_type": "markdown",
   "id": "e5703771",
   "metadata": {},
   "source": [
    "<br><br>\n",
    "\n",
    "## 7. Main code as possible solution to the problem [1,5 valor] "
   ]
  },
  {
   "cell_type": "code",
   "execution_count": null,
   "id": "cfb16818",
   "metadata": {},
   "outputs": [],
   "source": []
  },
  {
   "cell_type": "markdown",
   "id": "87a15554",
   "metadata": {},
   "source": [
    "<br><br>\n",
    "\n",
    "## 8. Analysis of Example 1 [3,0 valor] "
   ]
  },
  {
   "cell_type": "markdown",
   "id": "765d59f8",
   "metadata": {},
   "source": [
    "a"
   ]
  },
  {
   "cell_type": "markdown",
   "id": "a0f7810c",
   "metadata": {},
   "source": [
    "<br><br>\n",
    "\n",
    "## 9. Analysis of Example 2 [3,0 valor]"
   ]
  },
  {
   "cell_type": "markdown",
   "id": "3fe5a3ac",
   "metadata": {},
   "source": [
    "a"
   ]
  },
  {
   "cell_type": "markdown",
   "id": "1e821172",
   "metadata": {},
   "source": [
    "<br><br>\n",
    "## 10. Pros and cons of the approach [2,0 valor]"
   ]
  },
  {
   "cell_type": "markdown",
   "id": "7bfb1083",
   "metadata": {},
   "source": [
    "Pros:\n",
    "\n",
    "- *\n",
    "- *\n",
    "- *\n",
    "\n",
    "Cons:\n",
    "\n",
    "- *\n",
    "- *\n",
    "- *\n",
    "\n"
   ]
  },
  {
   "cell_type": "markdown",
   "id": "60974d68",
   "metadata": {},
   "source": [
    "<br><br>\n",
    "## 11. Future improvements [2,0 valor]"
   ]
  },
  {
   "cell_type": "markdown",
   "id": "35c05407",
   "metadata": {},
   "source": [
    "a"
   ]
  },
  {
   "cell_type": "markdown",
   "id": "04b1eb04",
   "metadata": {},
   "source": [
    "<br>\n",
    "<div style=\"text-align: center;\">\n",
    "    <br><br>\n",
    "    <p style=\"font-size: 40px;\">References [1,0 valor]</p>\n",
    "</div>\n",
    "<br>\n"
   ]
  },
  {
   "cell_type": "markdown",
   "id": "dfb76740",
   "metadata": {},
   "source": [
    "a"
   ]
  }
 ],
 "metadata": {
  "kernelspec": {
   "display_name": "Python 3",
   "language": "python",
   "name": "python3"
  },
  "language_info": {
   "codemirror_mode": {
    "name": "ipython",
    "version": 3
   },
   "file_extension": ".py",
   "mimetype": "text/x-python",
   "name": "python",
   "nbconvert_exporter": "python",
   "pygments_lexer": "ipython3",
   "version": "3.12.2"
  }
 },
 "nbformat": 4,
 "nbformat_minor": 5
}
