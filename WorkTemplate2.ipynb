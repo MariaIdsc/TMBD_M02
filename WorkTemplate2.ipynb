{
 "cells": [
  {
   "cell_type": "markdown",
   "id": "375aacc5",
   "metadata": {},
   "source": [
    "<br>\n",
    "\n",
    "# Técnicas Matemáticas para Big Data - Project 02 - Hidden Markov Models\n",
    "<br><br>\n"
   ]
  },
  {
   "cell_type": "markdown",
   "id": "8b47c68c",
   "metadata": {},
   "source": [
    "GROUP 05:\n",
    "- João Vieitas - Nº 97632 - 33% Work Participation\n",
    "- Margarida Oliveira - Nº 103112 - 33% Work Participation\n",
    "- Maria Costa - Nº 124254 - 33% Work Participation"
   ]
  },
  {
   "cell_type": "markdown",
   "id": "c66fb045",
   "metadata": {},
   "source": [
    "<br><br>\n",
    "\n",
    "## 1. Introduction to the problem of study [1,0 valor]"
   ]
  },
  {
   "cell_type": "markdown",
   "id": "97ff2ae4",
   "metadata": {},
   "source": [
    "O impacto climático nos tempos de entrega de produtos é um desafio significativo para empresas que dependem de um transporte eficiente para garantir a pontualidade. As condições climáticas, podem afetar a logística e, consequentemente, atrasar os prazos de entrega. Este estudo tem como objetivo explorar como as condições climáticas influenciam os tempos de entrega e como um Modelo de Markov Oculto (HMM) pode ser utilizado para prever esses impactos de forma precisa. "
   ]
  },
  {
   "cell_type": "markdown",
   "id": "41af2342",
   "metadata": {},
   "source": [
    "<br><br>\n",
    "## 2. Brief and general description of the approach and methods used [1,5 valor]"
   ]
  },
  {
   "cell_type": "markdown",
   "id": "6eaed846",
   "metadata": {},
   "source": [
    "Como já referido anteriormente, a abordagem adotada neste estudo utiliza o modelo Hidden Markov Model (HMM) para prever os impactos climáticos nos tempos de entrega.\n",
    "\n",
    "O Modelo Oculto de Markov é uma ferramenta probabilística amplamente utilizada para modelação de processos estocásticos onde o sistema subjacente opera em estados ocultos que não podem ser observados diretamente. No contexto deste estudo, os HMMs são aplicados para identificar padrões ocultos nos atrasos de entregas, condicionados pela variável clima.\n",
    "Assim, os estados ocultos no nosso modelo representam os diferentes níveis de impacto nos tempos e entrega: Sem Impacto (Normal), Impacto Moderado e Impacto Severo. Estes estados não são diretamente observáveis, mas podem ser inferidos através de variáveis observadas, que no nosso caso são as condições meteorológicas: Sol, Chuva Moderada e Chuva Intensa.\n",
    "A abordagem segue várias etapas: recolha e organização de dados, construção do modelo HMM, ou seja, estabelecemos as probabilidades de transição entre estados ocultos e de emissão das observações, treino do modelo, análise e previsão.\n",
    "\n",
    "Desta forma, o HMM permite compreender de forma detalhada a ligação entre as condições meteorológicas e os tempos de entrega, identificar tendências ao longo do tempo e propor estratégias para minimizar atrasos, mesmo em cenários de crescente imprevisibilidade climática."
   ]
  },
  {
   "cell_type": "markdown",
   "id": "0e324615",
   "metadata": {},
   "source": [
    "<br><br>\n",
    "## 3. Brief History and literature review of the problem and methods/algorithms [1,5 valor]"
   ]
  },
  {
   "cell_type": "markdown",
   "id": "8cdc8ced",
   "metadata": {},
   "source": [
    "Os atrasos nos sistemas de entrega, representam um problema crítico na gestão logística e na mobilidade moderna. As condições meteorológicas são um dos fatores externos mais significativos para a ocorrência de atrasos, uma vez que estes fenómenos afetam diretamente as operações. A análise e previsão de atrasos devido a fatores climáticos têm ganho relevância nos últimos anos, motivadas por implicações económicas, impactos das alterações climáticas e avanços tecnológicos em métodos de análise de dados.\n",
    "Assim, O impacto das condições climáticas nos tempos de entrega é um tema amplamente reconhecido na logística e transporte. As alterações climáticas estão a intensificar fenómenos extremos, como chuvas fortes, tempestades e ondas de calor, que afetam diretamente a eficiência das cadeias de abastecimento. Desde atrasos nos transportes rodoviários devido a estradas inundadas até interrupções em portos e aeroportos durante tempestades severas, os desafios logísticos associados ao clima são uma preocupação crescente.\n",
    "\n",
    "Historicamente, as empresas têm utilizado métodos tradicionais de previsão meteorológica para mitigar riscos, mas estas abordagens limitavam-se à observação básica e ao uso de calendários sazonais. Com o avanço da tecnologia, surgiram sistemas baseados em inteligência artificial e modelagem estatística, como os Modelos Ocultos de Markov (HMMs). Estes métodos são particularmente úteis, pois permitem estimar estados ocultos, como o impacto do clima nos atrasos, a partir de variáveis observáveis, como as condições meteorológicas.\n",
    "\n",
    "Na literatura, estudos apontam que o uso de HMMs em logística pode prever atrasos com maior precisão ao analisar séries temporais de eventos climáticos e respetivas consequências. Por exemplo, empresas ferroviárias e de transporte rodoviário nos EUA utilizam dados climáticos históricos para adaptar operações em cenários de alto risco climático, reduzindo custos e melhorando a satisfação do cliente. Estas inovações demonstram como métodos analíticos avançados podem tornar a logística mais resiliente perante um clima em mudança.\n"
   ]
  },
  {
   "cell_type": "markdown",
   "id": "4889a980",
   "metadata": {},
   "source": [
    "<br><br>\n",
    "## 4. About the main method/algorithm used [1,5 valor]"
   ]
  },
  {
   "cell_type": "markdown",
   "id": "3d79acd1",
   "metadata": {},
   "source": [
    "O principal método utilizado neste trabalho é o Modelo de Markov Oculto (HMM - Hidden Markov Model),um modelo estatístico amplamente reconhecido por sua capacidade de lidar com sistemas onde os estados subjacentes não são diretamente observáveis, mas podem ser inferidos a partir de dados visíveis. Este modelo é particularmente útil para capturar relações temporais e probabilísticas entre eventos, sendo amplamente aplicado em áreas como reconhecimento de fala, análise de séries temporais e, mais recentemente, em estudos logísticos relacionados a fatores climáticos.\n",
    "\n",
    "No contexto deste estudo, as principais características do HMM são:\n",
    "\n",
    "- Estados Ocultos: Representam os níveis de impacto no tempo de entrega (Normal, Moderado e Severo), que não podem ser diretamente observados.\n",
    "- Variáveis Observadas: São as condições meteorológicas (Sol, Chuva Moderada e Chuva Intensa), que fornecem pistas sobre os estados ocultos.\n",
    "- Probabilidades de Transição e Emissão:\n",
    "    - Transições: A probabilidade de um estado oculto transitar para outro.\n",
    "    - Emissões: A probabilidade de uma observação ser gerada por um determinado estado oculto.\n",
    "\n",
    "Vantagens do HMM no Estudo:\n",
    "- Capacidade de Inferência: Permite inferir o estado oculto atual (impacto no tempo de entrega) com base nas condições meteorológicas observadas.\n",
    "- Flexibilidade: Adapta-se a sistemas dinâmicos, capturando mudanças de padrão ao longo do tempo.\n",
    "- Previsão: Pode ser usado para prever atrasos futuros em função de padrões climáticos recorrentes."
   ]
  },
  {
   "cell_type": "markdown",
   "id": "52795c65",
   "metadata": {},
   "source": [
    "<br><br>\n",
    "\n",
    "## 5. Python imports and global configurations [0,5 valor]"
   ]
  },
  {
   "cell_type": "markdown",
   "id": "6f0f3deb",
   "metadata": {},
   "source": [
    "### Install and import the necessary libraries"
   ]
  },
  {
   "cell_type": "code",
   "execution_count": null,
   "id": "b5177dbe",
   "metadata": {},
   "outputs": [
    {
     "name": "stdout",
     "output_type": "stream",
     "text": [
      "sys.version_info(major=3, minor=12, micro=2, releaselevel='final', serial=0)\n"
     ]
    }
   ],
   "source": [
    "#import pandas as pd\n",
    "import numpy as np\n",
    "import seaborn as sns\n",
    "import matplotlib.pyplot as plt\n",
    "import networkx as nx\n",
    "from hmmlearn.hmm import MultinomialHMM\n",
    "from sklearn.model_selection import train_test_split\n",
    "from sklearn.metrics import accuracy_score"
   ]
  },
  {
   "cell_type": "markdown",
   "id": "bb739aae",
   "metadata": {},
   "source": [
    "<br><br>\n",
    "\n",
    "## 6. Dataset and variables explanation [1,5 valor]"
   ]
  },
  {
   "cell_type": "markdown",
   "id": "2f22429e",
   "metadata": {},
   "source": [
    "O dataset utilizado, dataset_hmm_climate_impact.csv, contém duas variáveis principais:\n",
    "\n",
    "Clima: Representa as condições climáticas observadas, como \"Sol\", \"Chuva Moderada\" e \"Chuva Intensa\".\n",
    "Impacto no Tempo de Entrega: Classifica o impacto do clima no tempo de entrega em três categorias: \"Sem Impacto\", \"Impacto Moderado\" e \"Impacto Severo\".\n",
    "Essas variáveis foram mapeadas para valores numéricos para facilitar a modelagem, com o clima mapeado para valores entre 0 e 2 e os impactos também representados por valores numéricos correspondentes."
   ]
  },
  {
   "cell_type": "markdown",
   "id": "e5703771",
   "metadata": {},
   "source": [
    "<br><br>\n",
    "\n",
    "## 7. Main code as possible solution to the problem [1,5 valor] "
   ]
  },
  {
   "cell_type": "code",
   "execution_count": null,
   "id": "cfb16818",
   "metadata": {},
   "outputs": [],
   "source": [
    "# Carregar os dados\n",
    "df = pd.read_csv(\"dataset_hmm_climate_impact.csv\")\n",
    "df.head()"
   ]
  },
  {
   "cell_type": "code",
   "execution_count": null,
   "id": "ca6b0ff8",
   "metadata": {},
   "outputs": [],
   "source": [
    "clima_mapping = {\n",
    "    \"Sol\": 0,\n",
    "    \"Chuva Moderada\": 1,\n",
    "    \"Chuva Intensa\": 2 \n",
    "}\n",
    "\n",
    "impacto_mapping = {\n",
    "    \"Sem Impacto (Normal)\": 0,\n",
    "    \"Impacto Moderado\": 1,\n",
    "    \"Impacto Severo\": 2\n",
    "}\n",
    "\n",
    "df[\"Clima_Num\"] = df[\"Clima\"].map(clima_mapping)\n",
    "df[\"Impacto_Num\"] = df[\"Impacto no Tempo de Entrega\"].map(impacto_mapping)\n",
    "\n",
    "# Separar as observações (X) e estados ocultos (y)\n",
    "X = df[\"Clima_Num\"].values\n",
    "y = df[\"Impacto_Num\"].values\n",
    "\n",
    "df.head()\n"
   ]
  },
  {
   "cell_type": "code",
   "execution_count": null,
   "id": "96bcb236",
   "metadata": {},
   "outputs": [],
   "source": [
    "initial_states = df[\"Impacto_Num\"]\n",
    "\n",
    "n_states = 3\n",
    "start_probabilities = np.zeros(n_states)\n",
    "\n",
    "for state in initial_states:\n",
    "    start_probabilities[state] += 1\n",
    "\n",
    "# Normalizar para obter porbabilidades\n",
    "start_probabilities /= len(initial_states)\n",
    "\n",
    "print(\"Probabilidades Iniciais:\", start_probabilities)\n"
   ]
  },
  {
   "cell_type": "code",
   "execution_count": null,
   "id": "47e1879b",
   "metadata": {},
   "outputs": [],
   "source": [
    "n_states = len(impacto_mapping)  \n",
    "n_observations = len(clima_mapping)  \n",
    "\n",
    "# Inicializar matriz de transição\n",
    "transition_matrix = np.zeros((n_states, n_states))\n",
    "\n",
    "# Contar frequências de transições entre estados\n",
    "for i in range(1, len(y)):\n",
    "    prev_state = y[i - 1]\n",
    "    curr_state = y[i]\n",
    "    transition_matrix[prev_state, curr_state] += 1\n",
    "\n",
    "# Normalizar as frequências para obter probabilidades\n",
    "transition_matrix = transition_matrix / transition_matrix.sum(axis=1, keepdims=True)\n",
    "print(\"Matriz de Transição:\")\n",
    "print(transition_matrix)\n",
    "\n",
    "plt.figure(figsize=(8, 6))\n",
    "sns.heatmap(transition_matrix, annot=True, cmap=\"Blues\", cbar=True, fmt='.2f', \n",
    "            xticklabels=[\"Sem Impacto\", \"Impacto Moderado\", \"Impacto Severo\"], \n",
    "            yticklabels=[\"Sem Impacto\", \"Impacto Moderado\", \"Impacto Severo\"])\n",
    "plt.title(\"Matriz de Transição (Impactos nos Tempos de Entrega)\")\n",
    "plt.xlabel(\"Estado de Destino\")\n",
    "plt.ylabel(\"Estado de Origem\")\n",
    "plt.show()"
   ]
  },
  {
   "cell_type": "code",
   "execution_count": null,
   "id": "1255d108",
   "metadata": {},
   "outputs": [],
   "source": [
    "# Inicializar matriz de emissões\n",
    "emission_matrix = np.zeros((n_states, n_observations))\n",
    "\n",
    "# Contar frequências para cada par (estado, observação)\n",
    "for i in range(len(y)):\n",
    "    state = y[i]\n",
    "    observation = X[i]\n",
    "    emission_matrix[state, observation] += 1\n",
    "\n",
    "# Normalizar as frequências para obter probabilidades\n",
    "emission_matrix = emission_matrix / emission_matrix.sum(axis=1, keepdims=True)\n",
    "print(\"Matriz de Emissão:\")\n",
    "print(emission_matrix)\n",
    "\n",
    "# Visualização da matriz de emissão\n",
    "plt.figure(figsize=(8, 6))\n",
    "sns.heatmap(emission_matrix, annot=True, cmap=\"Greens\", cbar=True, fmt='.2f', \n",
    "            xticklabels=[\"Sol\", \"Chuva Moderada\", \"Chuva Intensa\"], \n",
    "            yticklabels=[\"Sem Impacto\", \"Impacto Moderado\", \"Impacto Severo\"])\n",
    "plt.title(\"Matriz de Emissão (Clima e Impacto nos Tempos de Entrega)\")\n",
    "plt.xlabel(\"Clima Observado\")\n",
    "plt.ylabel(\"Estado Oculto (Impacto)\")\n",
    "plt.show()\n",
    "\n"
   ]
  },
  {
   "cell_type": "code",
   "execution_count": null,
   "id": "d153192c",
   "metadata": {},
   "outputs": [],
   "source": [
    "hidden_states = [\"SI\", \"IM\", \"IS\"]\n",
    "observations = [\"Sol\", \"CM\", \"CI\"]\n",
    "\n",
    "# Criar um grafo direcionado\n",
    "G = nx.DiGraph()\n",
    "\n",
    "# Adicionar um nó \"Start\" e conectá-lo aos estados ocultos com as probabilidades de início\n",
    "G.add_node(\"Start\", layer=-1, color='lightgray')\n",
    "\n",
    "# Adicionar os estados ocultos ao grafo\n",
    "for state in hidden_states:\n",
    "    G.add_node(state, layer=0, color='lightblue')\n",
    "\n",
    "# Adicionar as observações como nós separados\n",
    "for obs in observations:\n",
    "    G.add_node(obs, layer=1, color='lightgreen')\n",
    "\n",
    "# Criar arestas do nó \"Start\" para os estados ocultos com as probabilidades de início\n",
    "for i, state in enumerate(hidden_states):\n",
    "    weight = start_probabilities[i]\n",
    "    G.add_edge(\"Start\", state, weight=weight)\n",
    "\n",
    "# Adicionar arestas de transição entre os estados ocultos\n",
    "for i, from_state in enumerate(hidden_states):\n",
    "    for j, to_state in enumerate(hidden_states):\n",
    "        weight = transition_matrix[i][j]\n",
    "        if weight > 0:\n",
    "            G.add_edge(from_state, to_state, weight=weight, style=\"solid\")\n",
    "\n",
    "# Adicionar arestas de emissão\n",
    "for i, state in enumerate(hidden_states):\n",
    "    for j, obs in enumerate(observations):\n",
    "        weight = emission_matrix[i][j]\n",
    "        if weight > 0:\n",
    "            G.add_edge(state, obs, weight=weight, style=\"dashed\")\n",
    "\n",
    "# Configurar a posição dos nós para visualização\n",
    "pos = {}\n",
    "# Colocar o nó \"Start\" na parte superior\n",
    "pos[\"Start\"] = (len(hidden_states) / 3, 2)\n",
    "# Colocar os estados ocultos na linha superior\n",
    "for i, state in enumerate(hidden_states):\n",
    "    pos[state] = (i, 1)\n",
    "# Colocar as observações na linha inferior\n",
    "for j, obs in enumerate(observations):\n",
    "    pos[obs] = (j, 0)\n",
    "\n",
    "# Atributos das arestas\n",
    "edge_labels = nx.get_edge_attributes(G, \"weight\")\n",
    "edge_styles = nx.get_edge_attributes(G, \"style\")\n",
    "\n",
    "# Desenhar nós com cores diferentes\n",
    "node_colors = [G.nodes[node].get('color', 'white') for node in G.nodes()]\n",
    "nx.draw(G, pos, with_labels=True, node_color=node_colors, font_weight='bold', node_size=2000)\n",
    "\n",
    "# Adicionar rótulos das arestas\n",
    "nx.draw_networkx_edge_labels(G, pos, edge_labels={(u, v): f\"{d['weight']:.2f}\" for u, v, d in G.edges(data=True)})\n",
    "\n",
    "# Título e exibição\n",
    "plt.title(\"Modelo de Markov Oculto\")\n",
    "plt.show()"
   ]
  },
  {
   "cell_type": "code",
   "execution_count": null,
   "id": "9c249f91",
   "metadata": {},
   "outputs": [],
   "source": [
    "# Divisão  dos dados em treino e teste (80% treino, 20% teste)\n",
    "X = df['Clima_Num'].values.reshape(-1, 1)  # Variáveis observadas\n",
    "y = df['Impacto_Num'].values  # Estados ocultos \n",
    "\n",
    "X_train, X_test, y_train, y_test = train_test_split(X, y, test_size=0.2, random_state=42)\n",
    "\n",
    "# Resumo das divisões\n",
    "X_train.shape, X_test.shape, y_train.shape, y_test.shape\n"
   ]
  },
  {
   "cell_type": "code",
   "execution_count": null,
   "id": "baffd7ce",
   "metadata": {},
   "outputs": [],
   "source": [
    "# Configurar e treinar o modelo HMM\n",
    "model = MultinomialHMM(n_components=3, init_params=\"mc\")\n",
    "\n",
    "# Configurar matrizes no modelo\n",
    "model.startprob_ = start_probabilities\n",
    "model.transmat_ = transition_matrix\n",
    "model.emissionprob_ = emission_matrix\n",
    "\n",
    "# Treinar o modelo com os dados de treino (apenas observações)\n",
    "model.fit(X_train)\n",
    "\n",
    "# Inferir os estados ocultos para o conjunto de treino\n",
    "predicted_states_train = model.predict(X_train)\n",
    "accuracy_train = accuracy_score(y_train, predicted_states_train)\n",
    "\n",
    "# Inferir os estados ocultos para o conjunto de teste\n",
    "predicted_states_test = model.predict(X_test)\n",
    "accuracy_test = accuracy_score(y_test, predicted_states_test)\n",
    "\n",
    "print(f\"Accuracy Train: {accuracy_train}\")\n",
    "print(f\"Accuracy Test: {accuracy_test}\")"
   ]
  },
  {
   "cell_type": "markdown",
   "id": "87a15554",
   "metadata": {},
   "source": [
    "<br><br>\n",
    "\n",
    "## 8. Analysis of Example 1 [3,0 valor] "
   ]
  },
  {
   "cell_type": "markdown",
   "id": "765d59f8",
   "metadata": {},
   "source": [
    "a"
   ]
  },
  {
   "cell_type": "markdown",
   "id": "a0f7810c",
   "metadata": {},
   "source": [
    "<br><br>\n",
    "\n",
    "## 9. Analysis of Example 2 [3,0 valor]"
   ]
  },
  {
   "cell_type": "markdown",
   "id": "3fe5a3ac",
   "metadata": {},
   "source": [
    "a"
   ]
  },
  {
   "cell_type": "markdown",
   "id": "1e821172",
   "metadata": {},
   "source": [
    "<br><br>\n",
    "## 10. Pros and cons of the approach [2,0 valor]"
   ]
  },
  {
   "cell_type": "markdown",
   "id": "7bfb1083",
   "metadata": {},
   "source": [
    "Pros:\n",
    "\n",
    "- O HMM é eficaz para modelar sistemas estocásticos com estados ocultos e dependências temporais.\n",
    "- A abordagem probabilística permite uma análise detalhada das transições e emissões, possibilitando previsões baseadas em dados históricos.\n",
    "\n",
    "\n",
    "Cons:\n",
    "\n",
    "- O modelo depende da qualidade dos dados, e dados ausentes ou errôneos podem afetar a precisão das previsões.\n",
    "- A definição dos estados ocultos pode ser subjetiva e exigir uma interpretação cuidadosa dos dados.\n",
    "\n",
    "\n"
   ]
  },
  {
   "cell_type": "markdown",
   "id": "60974d68",
   "metadata": {},
   "source": [
    "<br><br>\n",
    "## 11. Future improvements [2,0 valor]"
   ]
  },
  {
   "cell_type": "markdown",
   "id": "35c05407",
   "metadata": {},
   "source": [
    "Entre as melhorias possíveis, destaca-se a inclusão de mais variáveis no modelo, como dados temporais (hora do dia) e dados de tráfego. A utilização de técnicas de validação cruzada também pode ajudar a melhorar a generalização do modelo e evitar o overfitting. Além disso, a experimentação com outros tipos de modelos, como redes neurais ou algoritmos de aprendizado profundo, pode fornecer uma comparação interessante e eventualmente melhorar a precisão das previsões."
   ]
  },
  {
   "cell_type": "markdown",
   "id": "04b1eb04",
   "metadata": {},
   "source": [
    "<br>\n",
    "<div style=\"text-align: center;\">\n",
    "    <br><br>\n",
    "    <p style=\"font-size: 40px;\">References [1,0 valor]</p>\n",
    "</div>\n",
    "<br>\n"
   ]
  },
  {
   "cell_type": "markdown",
   "id": "dfb76740",
   "metadata": {},
   "source": [
    "https://climavision.com/\n",
    "\n",
    "https://www.ncei.noaa.gov/\n",
    "\n",
    "https://www.benisonlogistics.com/"
   ]
  }
 ],
 "metadata": {
  "kernelspec": {
   "display_name": "Python 3",
   "language": "python",
   "name": "python3"
  },
  "language_info": {
   "codemirror_mode": {
    "name": "ipython",
    "version": 3
   },
   "file_extension": ".py",
   "mimetype": "text/x-python",
   "name": "python",
   "nbconvert_exporter": "python",
   "pygments_lexer": "ipython3",
   "version": "3.12.2"
  }
 },
 "nbformat": 4,
 "nbformat_minor": 5
}
